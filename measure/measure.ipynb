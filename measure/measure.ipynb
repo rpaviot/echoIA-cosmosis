{
 "cells": [
  {
   "cell_type": "code",
   "execution_count": 1,
   "id": "a2e7e864-6b0c-469d-aa3a-5d4aadccccc4",
   "metadata": {},
   "outputs": [],
   "source": [
    "import numpy as np\n",
    "import matplotlib.pyplot as plt\n",
    "from astropy.table import Table\n",
    "from astropy.io import fits\n",
    "import geo \n"
   ]
  },
  {
   "cell_type": "markdown",
   "id": "7154d504-dd4a-42ba-b09a-5a37fb9ba7ba",
   "metadata": {},
   "source": [
    "Read the extracted catalog from Flagship SC8 simulation\n"
   ]
  },
  {
   "cell_type": "code",
   "execution_count": 2,
   "id": "90a44531-1872-409c-975d-f0c92ebcf9a2",
   "metadata": {},
   "outputs": [],
   "source": [
    "T = Table.read(\"/feynman/work/dap/lceg/rp269101/stuff/eBOSS_LRG_flagship.fits\")\n",
    "ra = T['ra']\n",
    "dec = T['dec']\n",
    "z_obs = T['z']\n",
    "w = T['w']\n"
   ]
  },
  {
   "cell_type": "markdown",
   "id": "705e6eee-d06b-4cc4-b4f5-e5df748d4ae7",
   "metadata": {},
   "source": [
    "construct random catalog and extract nz"
   ]
  },
  {
   "cell_type": "code",
   "execution_count": 3,
   "id": "92ad8712-3425-4866-8113-ef11ce71d7d4",
   "metadata": {},
   "outputs": [],
   "source": [
    "NSIDE = 512\n",
    "\n",
    "\"\"\"Z-range within witch the sample was constructed\"\"\"\n",
    "Xmin = 0.5\n",
    "Xmax = 1.1\n",
    "footprint = geo.survey_geometry(NSIDE,RA=T['ra'],DEC=T['dec'])\n",
    "footprint.set_target_nz(Z=z_obs,W=w,xmin=Xmin,xmax=Xmax)\n",
    "ra_rand,dec_rand,z_rand,w_rand = footprint.create_random(size_random=int(len(ra)*15))\n",
    "center,edges,dn,nz = footprint.compute_nz()\n",
    "low_edge = edges[0:len(edges)-1]\n",
    "high_edge = edges[1:len(edges)]\n",
    "\n"
   ]
  },
  {
   "cell_type": "markdown",
   "id": "a794b450-61d9-4d58-a0f8-a48836317d15",
   "metadata": {},
   "source": [
    "Check the randoms "
   ]
  },
  {
   "cell_type": "code",
   "execution_count": 4,
   "id": "bd5c0d67-fea2-41ed-acd5-56bde5f6e53b",
   "metadata": {},
   "outputs": [
    {
     "data": {
      "text/plain": [
       "<matplotlib.collections.PathCollection at 0x7fff633c21f0>"
      ]
     },
     "execution_count": 4,
     "metadata": {},
     "output_type": "execute_result"
    },
    {
     "data": {
      "image/png": "[encoded data removed]",
      "text/plain": [
       "<Figure size 432x288 with 1 Axes>"
      ]
     },
     "metadata": {
      "needs_background": "light"
     },
     "output_type": "display_data"
    }
   ],
   "source": [
    "plt.scatter(ra,dec,s=0.0001)\n",
    "plt.scatter(ra_rand,dec_rand,s=0.0001)"
   ]
  },
  {
   "cell_type": "code",
   "execution_count": 5,
   "id": "7e859325-f75d-485e-b5a1-74664c8154ab",
   "metadata": {},
   "outputs": [
    {
     "data": {
      "image/png": "[encoded data removed]",
      "text/plain": [
       "<Figure size 432x288 with 1 Axes>"
      ]
     },
     "metadata": {
      "needs_background": "light"
     },
     "output_type": "display_data"
    }
   ],
   "source": [
    "_=plt.hist(z_obs,bins=100,density=True)\n",
    "_=plt.hist(z_rand,bins=100,density=True)"
   ]
  },
  {
   "cell_type": "markdown",
   "id": "258260f4-d8dc-4c91-894e-5a984595d9bb",
   "metadata": {},
   "source": [
    "Then we can save the random to a fit table and compute $w_g+$. \n",
    "\n",
    "To save this to table: \\\n",
    "T_rand = Table([ra_rand,dec_rand,z_rand,np.ones(len(ra_rand))],names=('ra','dec','z','w'))\n",
    "T_rand.write('eBOSS_LRGr_flagship.fits',format='fits',overwrite=True)\n",
    "\n",
    "\n",
    "Now i used the python script corr2.py to compute  $w_g+$, see pipeline_wgp.py for an example. \\\n",
    "\n",
    "Now lets read the measurements"
   ]
  },
  {
   "cell_type": "code",
   "execution_count": 6,
   "id": "eeb12d1d-1fec-4c8b-bf45-5d84c09b43ff",
   "metadata": {},
   "outputs": [],
   "source": [
    "r,meanr,meanglogr,xi,err = np.loadtxt(\"/feynman/home/dap/lceg/rp269101/code/euclid/wgp_LRG_flagship_jack_final_v7.dat\").T\n",
    "cov = np.loadtxt(\"/feynman/home/dap/lceg/rp269101/code/euclid/cov_wgp_LRG_flagship_jack_final_v7.dat\")\n"
   ]
  },
  {
   "cell_type": "markdown",
   "id": "07a716d6-c4f4-4248-a327-a0f7d0d0d20b",
   "metadata": {},
   "source": [
    "We are now going to convert the .ascii format into a fits format that Cosmosis understand, see https://github.com/joezuntz/2point and the corresponding example.\n",
    "\n",
    "\n",
    "To the primary HDU is add a header named COMMENT, to explain how the measurements were performed. \n",
    "Here, this is minimal example with a single observation, $w_g+$, and a single n(z) distribution as we are measuring auto-correlation only.\n",
    "\n"
   ]
  },
  {
   "cell_type": "code",
   "execution_count": 7,
   "id": "479b2dc7-594a-4f3e-85c9-22b9b7c061ef",
   "metadata": {},
   "outputs": [],
   "source": [
    "hdu = fits.PrimaryHDU()\n",
    "hdu.header['COMMENT']='wg+ is calculated by integration over radial bins of size 10Mpc/h \\\n",
    "up to 100 Mpc/h. The covariance is estimated from jackknife. Cosmology used, h=1, Om0=0.319'\n",
    "\"\"\"covariance saved as an Image HDU\"\"\"\n",
    "\n",
    "hdu2 = fits.ImageHDU(cov,name='COVMAT')\n",
    "\n",
    "\"\"\"data saved as a Table HDU. Note that we specify the name of the quantity we measure,\n",
    "i.e wg+. We also need to specify the quantities involved in the correlation, see the cosmosis\n",
    "folder\"\"\"\n",
    "\n",
    "#hdu2.header\n",
    "c1 = fits.Column(name='VALUE', array=xi, format='D')\n",
    "c2 = fits.Column(name='ANG', array=meanr, format='D',unit='rad')\n",
    "c3 = fits.Column(name='BIN1', array=np.ones(len(xi)), format='K')\n",
    "c4 = fits.Column(name='BIN2', array=np.ones(len(xi)), format='K')\n",
    "arrayr= np.logspace(np.log10(1e-1),np.log10(100),22)\n",
    "c5 = fits.Column(name='ANGBIN', array=np.arange(1,len(arrayr),1), format='K')\n",
    "\n",
    "table_hdu = fits.BinTableHDU.from_columns([c3,c4,c5,c1,c2],name=\"wgp\")\n",
    "T=1\n",
    "table_hdu.header['2PTDATA']=T\n",
    "table_hdu.header['N_ANG']=21\n",
    "\n",
    "table_hdu.header['QUANT1']='GPS'\n",
    "table_hdu.header['QUANT2']='G+S'\n",
    "#table_hdu.header['TUNIT5']='RAD'\n",
    "\n",
    "table_hdu.header['KERNEL_1']='NZ_SOURCE'\n",
    "table_hdu.header['KERNEL_2']='NZ_SOURCE'\n",
    "table_hdu.header['N_ZBIN_1']=1\n",
    "table_hdu.header['N_ZBIN_2']=1\n",
    "table_hdu.header['WINDOWS']='SAMPLE'\n",
    "hdu2.header['NAME_0']  = 'WGP'\n",
    "hdu2.header['STRT_0']  = 0\n",
    "\n",
    "\"\"\"n(z) saved as an other Table HDU\"\"\"\n",
    "c1 = fits.Column(name='Z_LOW', array=low_edge, format='D')\n",
    "c2 = fits.Column(name='Z_HIGH', array=high_edge, format='D')\n",
    "c3 = fits.Column(name='Z_MID', array=center, format='D')\n",
    "c4 = fits.Column(name='BIN1', array=np.ones(len(center)), format='D')\n",
    "\n",
    "table_hdu2= fits.BinTableHDU.from_columns([c1,c2,c3,c4],name=\"NZ_SOURCE\")\n",
    "table_hdu2.header['NZDATA']=T\n",
    "\n",
    "hdul = fits.HDUList([hdu,hdu2,table_hdu,table_hdu2])\n",
    "hdul.writeto('flagship_wgp_LRG.fits',overwrite=True)"
   ]
  },
  {
   "cell_type": "code",
   "execution_count": 8,
   "id": "5ef53c02-7289-4c77-b279-7db35516035e",
   "metadata": {},
   "outputs": [
    {
     "data": {
      "text/plain": [
       "wg+ is calculated by integration over radial bins of size 10Mpc/h up to\n",
       "100 Mpc/h. The covariance is estimated from jackknife. Cosmology used, h\n",
       "=1, Om0=0.319"
      ]
     },
     "execution_count": 8,
     "metadata": {},
     "output_type": "execute_result"
    }
   ],
   "source": [
    "hdu.header['COMMENT']"
   ]
  },
  {
   "cell_type": "code",
   "execution_count": 9,
   "id": "9a9d4d15-7a83-45ed-aa16-7e39127f1f83",
   "metadata": {},
   "outputs": [
    {
     "data": {
      "text/plain": [
       "XTENSION= 'BINTABLE'           / binary table extension                         \n",
       "BITPIX  =                    8 / array data type                                \n",
       "NAXIS   =                    2 / number of array dimensions                     \n",
       "NAXIS1  =                   40 / length of dimension 1                          \n",
       "NAXIS2  =                   21 / length of dimension 2                          \n",
       "PCOUNT  =                    0 / number of group parameters                     \n",
       "GCOUNT  =                    1 / number of groups                               \n",
       "TFIELDS =                    5 / number of table fields                         \n",
       "TTYPE1  = 'BIN1    '                                                            \n",
       "TFORM1  = 'K       '                                                            \n",
       "TTYPE2  = 'BIN2    '                                                            \n",
       "TFORM2  = 'K       '                                                            \n",
       "TTYPE3  = 'ANGBIN  '                                                            \n",
       "TFORM3  = 'K       '                                                            \n",
       "TTYPE4  = 'VALUE   '                                                            \n",
       "TFORM4  = 'D       '                                                            \n",
       "TTYPE5  = 'ANG     '                                                            \n",
       "TFORM5  = 'D       '                                                            \n",
       "TUNIT5  = 'rad     '                                                            \n",
       "EXTNAME = 'WGP     '           / extension name                                 \n",
       "2PTDATA =                    1                                                  \n",
       "N_ANG   =                   21                                                  \n",
       "QUANT1  = 'GPS     '                                                            \n",
       "QUANT2  = 'G+S     '                                                            \n",
       "KERNEL_1= 'NZ_SOURCE'                                                           \n",
       "KERNEL_2= 'NZ_SOURCE'                                                           \n",
       "N_ZBIN_1=                    1                                                  \n",
       "N_ZBIN_2=                    1                                                  \n",
       "WINDOWS = 'SAMPLE  '                                                            "
      ]
     },
     "execution_count": 9,
     "metadata": {},
     "output_type": "execute_result"
    }
   ],
   "source": [
    "hdul[2].header"
   ]
  },
  {
   "cell_type": "code",
   "execution_count": 10,
   "id": "63ad6d26-c31e-4e38-b048-aae9ca14e47e",
   "metadata": {},
   "outputs": [
    {
     "data": {
      "text/plain": [
       "XTENSION= 'BINTABLE'           / binary table extension                         \n",
       "BITPIX  =                    8 / array data type                                \n",
       "NAXIS   =                    2 / number of array dimensions                     \n",
       "NAXIS1  =                   32 / length of dimension 1                          \n",
       "NAXIS2  =                  120 / length of dimension 2                          \n",
       "PCOUNT  =                    0 / number of group parameters                     \n",
       "GCOUNT  =                    1 / number of groups                               \n",
       "TFIELDS =                    4 / number of table fields                         \n",
       "TTYPE1  = 'Z_LOW   '                                                            \n",
       "TFORM1  = 'D       '                                                            \n",
       "TTYPE2  = 'Z_HIGH  '                                                            \n",
       "TFORM2  = 'D       '                                                            \n",
       "TTYPE3  = 'Z_MID   '                                                            \n",
       "TFORM3  = 'D       '                                                            \n",
       "TTYPE4  = 'BIN1    '                                                            \n",
       "TFORM4  = 'D       '                                                            \n",
       "EXTNAME = 'NZ_SOURCE'          / extension name                                 \n",
       "NZDATA  =                    1                                                  "
      ]
     },
     "execution_count": 10,
     "metadata": {},
     "output_type": "execute_result"
    }
   ],
   "source": [
    "hdul[3].header"
   ]
  },
  {
   "cell_type": "code",
   "execution_count": 11,
   "id": "e054e3f7-bbf8-4144-b8b5-37dfd54dd94a",
   "metadata": {},
   "outputs": [
    {
     "data": {
      "text/plain": [
       "FITS_rec([(0.5  , 0.505, 0.5025, 1.), (0.505, 0.51 , 0.5075, 1.),\n",
       "          (0.51 , 0.515, 0.5125, 1.), (0.515, 0.52 , 0.5175, 1.),\n",
       "          (0.52 , 0.525, 0.5225, 1.), (0.525, 0.53 , 0.5275, 1.),\n",
       "          (0.53 , 0.535, 0.5325, 1.), (0.535, 0.54 , 0.5375, 1.),\n",
       "          (0.54 , 0.545, 0.5425, 1.), (0.545, 0.55 , 0.5475, 1.),\n",
       "          (0.55 , 0.555, 0.5525, 1.), (0.555, 0.56 , 0.5575, 1.),\n",
       "          (0.56 , 0.565, 0.5625, 1.), (0.565, 0.57 , 0.5675, 1.),\n",
       "          (0.57 , 0.575, 0.5725, 1.), (0.575, 0.58 , 0.5775, 1.),\n",
       "          (0.58 , 0.585, 0.5825, 1.), (0.585, 0.59 , 0.5875, 1.),\n",
       "          (0.59 , 0.595, 0.5925, 1.), (0.595, 0.6  , 0.5975, 1.),\n",
       "          (0.6  , 0.605, 0.6025, 1.), (0.605, 0.61 , 0.6075, 1.),\n",
       "          (0.61 , 0.615, 0.6125, 1.), (0.615, 0.62 , 0.6175, 1.),\n",
       "          (0.62 , 0.625, 0.6225, 1.), (0.625, 0.63 , 0.6275, 1.),\n",
       "          (0.63 , 0.635, 0.6325, 1.), (0.635, 0.64 , 0.6375, 1.),\n",
       "          (0.64 , 0.645, 0.6425, 1.), (0.645, 0.65 , 0.6475, 1.),\n",
       "          (0.65 , 0.655, 0.6525, 1.), (0.655, 0.66 , 0.6575, 1.),\n",
       "          (0.66 , 0.665, 0.6625, 1.), (0.665, 0.67 , 0.6675, 1.),\n",
       "          (0.67 , 0.675, 0.6725, 1.), (0.675, 0.68 , 0.6775, 1.),\n",
       "          (0.68 , 0.685, 0.6825, 1.), (0.685, 0.69 , 0.6875, 1.),\n",
       "          (0.69 , 0.695, 0.6925, 1.), (0.695, 0.7  , 0.6975, 1.),\n",
       "          (0.7  , 0.705, 0.7025, 1.), (0.705, 0.71 , 0.7075, 1.),\n",
       "          (0.71 , 0.715, 0.7125, 1.), (0.715, 0.72 , 0.7175, 1.),\n",
       "          (0.72 , 0.725, 0.7225, 1.), (0.725, 0.73 , 0.7275, 1.),\n",
       "          (0.73 , 0.735, 0.7325, 1.), (0.735, 0.74 , 0.7375, 1.),\n",
       "          (0.74 , 0.745, 0.7425, 1.), (0.745, 0.75 , 0.7475, 1.),\n",
       "          (0.75 , 0.755, 0.7525, 1.), (0.755, 0.76 , 0.7575, 1.),\n",
       "          (0.76 , 0.765, 0.7625, 1.), (0.765, 0.77 , 0.7675, 1.),\n",
       "          (0.77 , 0.775, 0.7725, 1.), (0.775, 0.78 , 0.7775, 1.),\n",
       "          (0.78 , 0.785, 0.7825, 1.), (0.785, 0.79 , 0.7875, 1.),\n",
       "          (0.79 , 0.795, 0.7925, 1.), (0.795, 0.8  , 0.7975, 1.),\n",
       "          (0.8  , 0.805, 0.8025, 1.), (0.805, 0.81 , 0.8075, 1.),\n",
       "          (0.81 , 0.815, 0.8125, 1.), (0.815, 0.82 , 0.8175, 1.),\n",
       "          (0.82 , 0.825, 0.8225, 1.), (0.825, 0.83 , 0.8275, 1.),\n",
       "          (0.83 , 0.835, 0.8325, 1.), (0.835, 0.84 , 0.8375, 1.),\n",
       "          (0.84 , 0.845, 0.8425, 1.), (0.845, 0.85 , 0.8475, 1.),\n",
       "          (0.85 , 0.855, 0.8525, 1.), (0.855, 0.86 , 0.8575, 1.),\n",
       "          (0.86 , 0.865, 0.8625, 1.), (0.865, 0.87 , 0.8675, 1.),\n",
       "          (0.87 , 0.875, 0.8725, 1.), (0.875, 0.88 , 0.8775, 1.),\n",
       "          (0.88 , 0.885, 0.8825, 1.), (0.885, 0.89 , 0.8875, 1.),\n",
       "          (0.89 , 0.895, 0.8925, 1.), (0.895, 0.9  , 0.8975, 1.),\n",
       "          (0.9  , 0.905, 0.9025, 1.), (0.905, 0.91 , 0.9075, 1.),\n",
       "          (0.91 , 0.915, 0.9125, 1.), (0.915, 0.92 , 0.9175, 1.),\n",
       "          (0.92 , 0.925, 0.9225, 1.), (0.925, 0.93 , 0.9275, 1.),\n",
       "          (0.93 , 0.935, 0.9325, 1.), (0.935, 0.94 , 0.9375, 1.),\n",
       "          (0.94 , 0.945, 0.9425, 1.), (0.945, 0.95 , 0.9475, 1.),\n",
       "          (0.95 , 0.955, 0.9525, 1.), (0.955, 0.96 , 0.9575, 1.),\n",
       "          (0.96 , 0.965, 0.9625, 1.), (0.965, 0.97 , 0.9675, 1.),\n",
       "          (0.97 , 0.975, 0.9725, 1.), (0.975, 0.98 , 0.9775, 1.),\n",
       "          (0.98 , 0.985, 0.9825, 1.), (0.985, 0.99 , 0.9875, 1.),\n",
       "          (0.99 , 0.995, 0.9925, 1.), (0.995, 1.   , 0.9975, 1.),\n",
       "          (1.   , 1.005, 1.0025, 1.), (1.005, 1.01 , 1.0075, 1.),\n",
       "          (1.01 , 1.015, 1.0125, 1.), (1.015, 1.02 , 1.0175, 1.),\n",
       "          (1.02 , 1.025, 1.0225, 1.), (1.025, 1.03 , 1.0275, 1.),\n",
       "          (1.03 , 1.035, 1.0325, 1.), (1.035, 1.04 , 1.0375, 1.),\n",
       "          (1.04 , 1.045, 1.0425, 1.), (1.045, 1.05 , 1.0475, 1.),\n",
       "          (1.05 , 1.055, 1.0525, 1.), (1.055, 1.06 , 1.0575, 1.),\n",
       "          (1.06 , 1.065, 1.0625, 1.), (1.065, 1.07 , 1.0675, 1.),\n",
       "          (1.07 , 1.075, 1.0725, 1.), (1.075, 1.08 , 1.0775, 1.),\n",
       "          (1.08 , 1.085, 1.0825, 1.), (1.085, 1.09 , 1.0875, 1.),\n",
       "          (1.09 , 1.095, 1.0925, 1.), (1.095, 1.1  , 1.0975, 1.)],\n",
       "         dtype=(numpy.record, [('Z_LOW', '<f8'), ('Z_HIGH', '<f8'), ('Z_MID', '<f8'), ('BIN1', '<f8')]))"
      ]
     },
     "execution_count": 11,
     "metadata": {},
     "output_type": "execute_result"
    }
   ],
   "source": [
    "hdul[3].data"
   ]
  },
  {
   "cell_type": "code",
   "execution_count": null,
   "id": "f3037b00-3507-41cb-badd-00b2e2b44383",
   "metadata": {},
   "outputs": [],
   "source": []
  }
 ],
 "metadata": {
  "kernelspec": {
   "display_name": "Python 3 (ipykernel)",
   "language": "python",
   "name": "python3"
  },
  "language_info": {
   "codemirror_mode": {
    "name": "ipython",
    "version": 3
   },
   "file_extension": ".py",
   "mimetype": "text/x-python",
   "name": "python",
   "nbconvert_exporter": "python",
   "pygments_lexer": "ipython3",
   "version": "3.9.0"
  }
 },
 "nbformat": 4,
 "nbformat_minor": 5
}
